{
 "cells": [
  {
   "cell_type": "code",
   "execution_count": 5,
   "id": "c58484e8-1bfa-48dd-aa1c-03ad4f3a4545",
   "metadata": {},
   "outputs": [
    {
     "name": "stdin",
     "output_type": "stream",
     "text": [
      "enter upper bound integer number 20\n",
      "guess a number 9\n"
     ]
    },
    {
     "name": "stdout",
     "output_type": "stream",
     "text": [
      "guess is below the number\n"
     ]
    },
    {
     "name": "stdin",
     "output_type": "stream",
     "text": [
      "guess a number 12\n"
     ]
    },
    {
     "name": "stdout",
     "output_type": "stream",
     "text": [
      "guess is below the number\n"
     ]
    },
    {
     "name": "stdin",
     "output_type": "stream",
     "text": [
      "guess a number 18\n"
     ]
    },
    {
     "name": "stdout",
     "output_type": "stream",
     "text": [
      "“Congrats!!! You got it”\n",
      "And the number is  18\n",
      "after  2 trial you finally got it\n"
     ]
    }
   ],
   "source": [
    "a=int(input(\"enter upper bound integer number\"))\n",
    "import random\n",
    "b=random.randint(1,a)\n",
    "count=0\n",
    "while(1):\n",
    "    c=int(input(\"guess a number\"))\n",
    "    if(b==c):\n",
    "        print( '“Congrats!!! You got it”')\n",
    "        break;\n",
    "    else:\n",
    "        if(b<c):\n",
    "            print(\"guess is above thae number\")\n",
    "        else:\n",
    "            print(\"guess is below the number\")\n",
    "    count=count+1\n",
    "print(\"And the number is \",b)  \n",
    "print(\"after \",count,\"trial you finally got it\")"
   ]
  },
  {
   "cell_type": "code",
   "execution_count": null,
   "id": "aa130530-9d86-4235-bb13-5f5ab1a96b07",
   "metadata": {},
   "outputs": [],
   "source": []
  }
 ],
 "metadata": {
  "kernelspec": {
   "display_name": "Python 3 (ipykernel)",
   "language": "python",
   "name": "python3"
  },
  "language_info": {
   "codemirror_mode": {
    "name": "ipython",
    "version": 3
   },
   "file_extension": ".py",
   "mimetype": "text/x-python",
   "name": "python",
   "nbconvert_exporter": "python",
   "pygments_lexer": "ipython3",
   "version": "3.11.7"
  }
 },
 "nbformat": 4,
 "nbformat_minor": 5
}
